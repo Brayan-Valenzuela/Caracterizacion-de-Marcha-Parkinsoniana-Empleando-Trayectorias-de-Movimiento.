{
 "cells": [
  {
   "cell_type": "code",
   "execution_count": 31,
   "metadata": {},
   "outputs": [],
   "source": [
    "def pasar_text(nombre,X,y):\n",
    "    f = open(nombre,'a')\n",
    "    h,w = X.shape\n",
    "    for i in range(h):\n",
    "        linea = str(y[i]+1) + ' '\n",
    "        for j in range(w):\n",
    "            linea = linea + str(j+1) + ':' + str(X[i,j]) + ' '\n",
    "        #print(linea)\n",
    "        f.write(linea + '\\n')\n",
    "    f.close()"
   ]
  },
  {
   "cell_type": "code",
   "execution_count": 16,
   "metadata": {},
   "outputs": [],
   "source": [
    "pasar_text('clasificacionTrayNoDensasSinAumentar', np.array(X), np.array(y))"
   ]
  },
  {
   "cell_type": "markdown",
   "metadata": {},
   "source": [
    "# Clasificacion Usando Trayectorias"
   ]
  },
  {
   "cell_type": "code",
   "execution_count": 32,
   "metadata": {},
   "outputs": [
    {
     "name": "stdout",
     "output_type": "stream",
     "text": [
      "video: 1 Procesado de: 14\n",
      "video: 2 Procesado de: 14\n",
      "video: 3 Procesado de: 14\n",
      "video: 4 Procesado de: 14\n",
      "video: 5 Procesado de: 14\n",
      "video: 6 Procesado de: 14\n",
      "video: 7 Procesado de: 14\n",
      "video: 8 Procesado de: 14\n",
      "video: 9 Procesado de: 14\n",
      "video: 10 Procesado de: 14\n",
      "video: 11 Procesado de: 14\n",
      "video: 12 Procesado de: 14\n",
      "video: 13 Procesado de: 14\n",
      "video: 14 Procesado de: 14\n"
     ]
    }
   ],
   "source": [
    "import os\n",
    "import subprocess\n",
    "import numpy as np\n",
    "import pandas as pd\n",
    "\n",
    "i = 1\n",
    "home = os.getenv(\"HOME\")\n",
    "videos = home + '/' + 'Vídeos/'\n",
    "videos_pk = frames = os.listdir(videos + 'pk/')\n",
    "videos_std = frames = os.listdir(videos + 'std/')\n",
    "\n",
    "X = []\n",
    "y = []\n",
    "\n",
    "for video in videos_pk:\n",
    "    subprocess.call(['bash', 'sacar_trayectorias_(tipo).sh', video,'pk/'])\n",
    "    Trayectories = pd.read_csv('trayectories', sep=' ', header=None)\n",
    "    del Trayectories[34]\n",
    "    Trayectories = Trayectories[abs(Trayectories[32]-Trayectories[2])>=2]\n",
    "    Trayectories = Trayectories[abs(Trayectories[33]-Trayectories[3])>=2]\n",
    "    data = Trayectories.values\n",
    "    X.append(data)\n",
    "    del Trayectories\n",
    "    del data\n",
    "    y.append(0)\n",
    "    print('video: ' + str(i) + ' Procesado de: ' + str(len(videos_pk)+ len(videos_std)))\n",
    "    i = i + 1\n",
    "\n",
    "    \n",
    "for video in videos_std:\n",
    "    subprocess.call(['bash', 'sacar_trayectorias_(tipo).sh', video,'std/'])\n",
    "    Trayectories = pd.read_csv('trayectories', sep=' ', header=None)\n",
    "    del Trayectories[34]\n",
    "    Trayectories = Trayectories[abs(Trayectories[32]-Trayectories[2])>=2]\n",
    "    Trayectories = Trayectories[abs(Trayectories[33]-Trayectories[3])>=2]\n",
    "    data = Trayectories.values\n",
    "    X.append(data)\n",
    "    del Trayectories\n",
    "    del data\n",
    "    y.append(1)         \n",
    "    print('video: ' + str(i) + ' Procesado de: ' + str(len(videos_pk)+ len(videos_std)))\n",
    "    i = i + 1\n",
    "    "
   ]
  },
  {
   "cell_type": "code",
   "execution_count": 17,
   "metadata": {},
   "outputs": [],
   "source": [
    "for i in range(14):\n",
    "    tray = X[i]\n",
    "    total = tray.shape[0]\n",
    "    mitad = int(total/2)\n",
    "    inicio = mitad - 1500\n",
    "    final = mitad + 1500\n",
    "    data = tray[inicio:final,:]\n",
    "    data = data.reshape((1,-1))\n",
    "    X[i] = data[0]"
   ]
  },
  {
   "cell_type": "code",
   "execution_count": 18,
   "metadata": {},
   "outputs": [
    {
     "name": "stdout",
     "output_type": "stream",
     "text": [
      "(102000,)\n",
      "(102000,)\n",
      "(102000,)\n",
      "(102000,)\n",
      "(102000,)\n",
      "(102000,)\n",
      "(102000,)\n",
      "(102000,)\n",
      "(102000,)\n",
      "(102000,)\n",
      "(102000,)\n",
      "(102000,)\n",
      "(102000,)\n",
      "(102000,)\n"
     ]
    }
   ],
   "source": [
    "for i in range(14):\n",
    "    print X[i].shape"
   ]
  },
  {
   "cell_type": "code",
   "execution_count": 19,
   "metadata": {},
   "outputs": [
    {
     "name": "stdout",
     "output_type": "stream",
     "text": [
      "('x.shape: ', (14, 102000), 'y.shape: ', (14,))\n"
     ]
    }
   ],
   "source": [
    "import numpy as np\n",
    "print('x.shape: ', np.array(X).shape, 'y.shape: ', np.array(y).shape)"
   ]
  },
  {
   "cell_type": "code",
   "execution_count": 20,
   "metadata": {},
   "outputs": [],
   "source": [
    "from sklearn.model_selection import KFold\n",
    "from sklearn.metrics import *\n",
    "from sklearn.model_selection import cross_val_score"
   ]
  },
  {
   "cell_type": "markdown",
   "metadata": {},
   "source": [
    "# Naive Gaussian"
   ]
  },
  {
   "cell_type": "code",
   "execution_count": 21,
   "metadata": {},
   "outputs": [
    {
     "name": "stdout",
     "output_type": "stream",
     "text": [
      "[1.  0.  0.5 0.  0.  1.  0.  1.  1.  0. ]\n",
      "accuracy 0.450 (+/- 0.47170)\n"
     ]
    }
   ],
   "source": [
    "from sklearn.naive_bayes import GaussianNB\n",
    "est = GaussianNB()\n",
    "s = cross_val_score(est, X, y, cv=KFold(10, shuffle=True), scoring=make_scorer(accuracy_score))\n",
    "print s\n",
    "print \"accuracy %.3f (+/- %.5f)\"%(np.mean(s), np.std(s))"
   ]
  },
  {
   "cell_type": "markdown",
   "metadata": {},
   "source": [
    "# DecisionTree"
   ]
  },
  {
   "cell_type": "code",
   "execution_count": 22,
   "metadata": {},
   "outputs": [
    {
     "name": "stdout",
     "output_type": "stream",
     "text": [
      "[0.5 1.  0.  1.  0.  0.  1.  0.  1.  0. ]\n",
      "accuracy 0.450 (+/- 0.47170)\n"
     ]
    }
   ],
   "source": [
    "from sklearn.tree import DecisionTreeClassifier\n",
    "est = DecisionTreeClassifier()\n",
    "s = cross_val_score(est, X, y, cv=KFold(10, shuffle=True), scoring=make_scorer(accuracy_score))\n",
    "print s\n",
    "print \"accuracy %.3f (+/- %.5f)\"%(np.mean(s), np.std(s))"
   ]
  },
  {
   "cell_type": "markdown",
   "metadata": {},
   "source": [
    "# Random Forest"
   ]
  },
  {
   "cell_type": "code",
   "execution_count": 23,
   "metadata": {},
   "outputs": [
    {
     "name": "stdout",
     "output_type": "stream",
     "text": [
      "[0.5 0.5 0.  0.5 0.  1.  0.  1.  0.  0. ]\n",
      "accuracy 0.350 (+/- 0.39051)\n"
     ]
    }
   ],
   "source": [
    "from sklearn.ensemble import RandomForestClassifier\n",
    "est = RandomForestClassifier()\n",
    "s = cross_val_score(est, X, y, cv=KFold(10, shuffle=True), scoring=make_scorer(accuracy_score))\n",
    "print s\n",
    "print \"accuracy %.3f (+/- %.5f)\"%(np.mean(s), np.std(s))"
   ]
  },
  {
   "cell_type": "markdown",
   "metadata": {},
   "source": [
    "# Support Vector Machine"
   ]
  },
  {
   "cell_type": "code",
   "execution_count": 24,
   "metadata": {},
   "outputs": [
    {
     "name": "stdout",
     "output_type": "stream",
     "text": [
      "[0.5        0.25       0.33333333 0.33333333]\n",
      "accuracy 0.354 (+/- 0.09081)\n"
     ]
    }
   ],
   "source": [
    "from sklearn.svm import SVC\n",
    "est = SVC()\n",
    "s = cross_val_score(est, X, y, cv=KFold(4, shuffle=True), scoring=make_scorer(accuracy_score))\n",
    "print s\n",
    "print \"accuracy %.3f (+/- %.5f)\"%(np.mean(s), np.std(s))"
   ]
  },
  {
   "cell_type": "markdown",
   "metadata": {},
   "source": [
    "# K-Nearest Neighbors"
   ]
  },
  {
   "cell_type": "code",
   "execution_count": 30,
   "metadata": {},
   "outputs": [
    {
     "name": "stdout",
     "output_type": "stream",
     "text": [
      "[0.4 0.4 1. ]\n",
      "accuracy 0.600 (+/- 0.28284)\n"
     ]
    }
   ],
   "source": [
    "from sklearn.neighbors import KNeighborsClassifier\n",
    "est = KNeighborsClassifier(n_neighbors = 9)\n",
    "s = cross_val_score(est, X, y, cv=KFold(3, shuffle=True), scoring=make_scorer(accuracy_score))\n",
    "print s\n",
    "print \"accuracy %.3f (+/- %.5f)\"%(np.mean(s), np.std(s))"
   ]
  },
  {
   "cell_type": "markdown",
   "metadata": {},
   "source": [
    "# Analisis de componentes principales "
   ]
  },
  {
   "cell_type": "code",
   "execution_count": null,
   "metadata": {},
   "outputs": [],
   "source": []
  }
 ],
 "metadata": {
  "kernelspec": {
   "display_name": "Python 2",
   "language": "python",
   "name": "python2"
  },
  "language_info": {
   "codemirror_mode": {
    "name": "ipython",
    "version": 2
   },
   "file_extension": ".py",
   "mimetype": "text/x-python",
   "name": "python",
   "nbconvert_exporter": "python",
   "pygments_lexer": "ipython2",
   "version": "2.7.15"
  }
 },
 "nbformat": 4,
 "nbformat_minor": 2
}
